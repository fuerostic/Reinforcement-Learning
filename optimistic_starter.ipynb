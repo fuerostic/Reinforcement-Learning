{
 "cells": [
  {
   "cell_type": "code",
   "execution_count": 18,
   "metadata": {},
   "outputs": [],
   "source": [
    "import matplotlib.pyplot as plt \n",
    "import numpy as np"
   ]
  },
  {
   "cell_type": "code",
   "execution_count": 19,
   "metadata": {},
   "outputs": [],
   "source": [
    "NUM_TRIALS = 100000\n",
    "EPS = 0.1\n",
    "BANDIT_PROBABILITIES= [0.2, 0.5, 0.75]"
   ]
  },
  {
   "cell_type": "code",
   "execution_count": 20,
   "metadata": {},
   "outputs": [],
   "source": [
    "class Bandit:\n",
    "    def __init__(self, p):\n",
    "\n",
    "        self.p = p\n",
    "        self.p_estimate = 10\n",
    "        self.N = 1\n",
    "\n",
    "    def pull(self):\n",
    "        return np.random.random() < self.p\n",
    "    \n",
    "    def update(self, x):\n",
    "        self.N+=1\n",
    "        self.p_estimate = ((self.N-1)*self.p_estimate + x ) / self.N"
   ]
  },
  {
   "cell_type": "code",
   "execution_count": 23,
   "metadata": {},
   "outputs": [],
   "source": [
    "def experiment():\n",
    "    bandits = [Bandit(p) for p in BANDIT_PROBABILITIES]\n",
    "\n",
    "    rewards = np.zeros(NUM_TRIALS)\n",
    "\n",
    "    for i in range(NUM_TRIALS):\n",
    "\n",
    "        j = np.argmax([b.p_estimate for b in bandits])\n",
    "\n",
    "        x = bandits[j].pull()\n",
    "\n",
    "        rewards[i] = x\n",
    "\n",
    "        bandits[j].update(x)\n",
    "\n",
    "\n",
    "    for b in bandits:\n",
    "        print(\"mean estimate:\", b.p_estimate)\n",
    "\n",
    "    print(\"total reward earned:\", rewards.sum())\n",
    "    print(\"overall win rate:\" , rewards.sum() / NUM_TRIALS)\n",
    "    print(\"num times selected each bandit:\", [b.N for b in bandits])\n",
    "\n",
    "    cumulative_rewards  = np.cumsum(rewards)\n",
    "    win_rates = cumulative_rewards / (np.arange(NUM_TRIALS) + 1)\n",
    "    plt.ylim(0,1)\n",
    "    plt.plot(win_rates)\n",
    "    plt.plot(np.ones(NUM_TRIALS)*np.max(BANDIT_PROBABILITIES))\n",
    "    plt.show()\n",
    "\n",
    "\n"
   ]
  },
  {
   "cell_type": "code",
   "execution_count": 24,
   "metadata": {},
   "outputs": [
    {
     "name": "stdout",
     "output_type": "stream",
     "text": [
      "mean estimate: 0.7058823529411765\n",
      "mean estimate: 0.6944444444444444\n",
      "mean estimate: 0.7505852926463188\n",
      "total reward earned: 75028.0\n",
      "overall win rate: 0.75028\n",
      "num times selected each bandit: [17, 36, 99950]\n"
     ]
    },
    {
     "data": {
      "image/png": "[encoded data removed]",
      "text/plain": [
       "<Figure size 640x480 with 1 Axes>"
      ]
     },
     "metadata": {},
     "output_type": "display_data"
    }
   ],
   "source": [
    "experiment()"
   ]
  },
  {
   "cell_type": "code",
   "execution_count": null,
   "metadata": {},
   "outputs": [],
   "source": []
  }
 ],
 "metadata": {
  "kernelspec": {
   "display_name": "pytorch",
   "language": "python",
   "name": "python3"
  },
  "language_info": {
   "codemirror_mode": {
    "name": "ipython",
    "version": 3
   },
   "file_extension": ".py",
   "mimetype": "text/x-python",
   "name": "python",
   "nbconvert_exporter": "python",
   "pygments_lexer": "ipython3",
   "version": "3.9.19"
  }
 },
 "nbformat": 4,
 "nbformat_minor": 2
}
