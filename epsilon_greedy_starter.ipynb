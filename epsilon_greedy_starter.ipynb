{
 "cells": [
  {
   "cell_type": "code",
   "execution_count": 1,
   "metadata": {},
   "outputs": [],
   "source": [
    "import matplotlib.pyplot as plt\n",
    "import numpy as np"
   ]
  },
  {
   "cell_type": "code",
   "execution_count": 2,
   "metadata": {},
   "outputs": [],
   "source": [
    "NUM_TRIALS=10000\n",
    "EPS=0.1\n",
    "BANDIT_PROBABILITIES=[0.2,.5,.75]"
   ]
  },
  {
   "cell_type": "code",
   "execution_count": 18,
   "metadata": {},
   "outputs": [],
   "source": [
    "class Bandit:\n",
    "    def __init__(self,p):\n",
    "        # p: the win rate\n",
    "        self.p = p\n",
    "        self.p_estimate= 0\n",
    "        self.N=0\n",
    "\n",
    "    def pull(self):\n",
    "        # draw a 1 with probability p\n",
    "        return np.random.random() <self.p \n",
    "    \n",
    "    def update(self,x):\n",
    "        self.N+=1\n",
    "        self.p_estimate= ((self.N-1)* self.p_estimate+ x) / self.N"
   ]
  },
  {
   "cell_type": "code",
   "execution_count": 25,
   "metadata": {},
   "outputs": [],
   "source": [
    "def experiment():\n",
    "    bandits = [Bandit(p) for p in BANDIT_PROBABILITIES]\n",
    "\n",
    "    rewards = np.zeros(NUM_TRIALS)\n",
    "    num_times_explored = 0\n",
    "    num_timex_exploited=0\n",
    "    num_optimal = 0\n",
    "    optimal_j = np.argmax([b.p for b in bandits])\n",
    "    print(\"Optimal j: \" , optimal_j)\n",
    "\n",
    "    for i in range(NUM_TRIALS):\n",
    "        #EPS = 1/(i+1) # decaying EPS\n",
    "        #use_epsilon greedy to select the next bandit\n",
    "        if np.random.random() <EPS:\n",
    "            num_times_explored+=1\n",
    "            j=np.random.randint(0,len(bandits))\n",
    "        else:\n",
    "            num_timex_exploited+=1\n",
    "            j= np.argmax([b.p for b in bandits])\n",
    "\n",
    "        if j==optimal_j:\n",
    "            num_optimal+=1\n",
    "\n",
    "        #pull the arm for the bandit with the largest sample\n",
    "        x = bandits[j].pull()\n",
    "\n",
    "        #update rewards log\n",
    "        rewards[i] = x\n",
    "\n",
    "        #update the distribution for the bandit whose arm we just pulled\n",
    "        bandits[j].update(x)\n",
    "\n",
    "    for b in bandits:\n",
    "        print(\"mean estimate:\", b.p_estimate)\n",
    "\n",
    "\n",
    "    #print total reward\n",
    "    print(\"Total reward earned:\", rewards.sum())\n",
    "    print(\"Overall win rate\", rewards.sum()/ NUM_TRIALS)\n",
    "    print(\"num of time explored\",num_times_explored)\n",
    "    print(\"num of time exploited\",num_timex_exploited)\n",
    "    print(\"num of times selected optimal bandit: \", num_optimal)\n",
    "\n",
    "\n",
    "    #plot the results\n",
    "\n",
    "    cumulative_rewards = np.cumsum(rewards)\n",
    "    win_rates = cumulative_rewards/(np.arange(NUM_TRIALS)+1)\n",
    "    plt.plot(win_rates)\n",
    "    plt.plot(np.ones(NUM_TRIALS)* np.max(BANDIT_PROBABILITIES))\n",
    "    plt.show()\n",
    "\n",
    "\n"
   ]
  },
  {
   "cell_type": "code",
   "execution_count": 26,
   "metadata": {},
   "outputs": [
    {
     "name": "stdout",
     "output_type": "stream",
     "text": [
      "Optimal j:  2\n",
      "mean estimate: 0.22018348623853207\n",
      "mean estimate: 0.5240793201133148\n",
      "mean estimate: 0.7488197424892692\n",
      "Total reward earned: 7236.0\n",
      "Overall win rate 0.7236\n",
      "num of time explored 1006\n",
      "num of time exploited 8994\n",
      "num of times selected optimal bandit:  9320\n"
     ]
    },
    {
     "data": {
      "image/png": "[encoded data removed]",
      "text/plain": [
       "<Figure size 640x480 with 1 Axes>"
      ]
     },
     "metadata": {},
     "output_type": "display_data"
    }
   ],
   "source": [
    "experiment()"
   ]
  },
  {
   "cell_type": "code",
   "execution_count": null,
   "metadata": {},
   "outputs": [],
   "source": []
  }
 ],
 "metadata": {
  "kernelspec": {
   "display_name": "pytorch",
   "language": "python",
   "name": "python3"
  },
  "language_info": {
   "codemirror_mode": {
    "name": "ipython",
    "version": 3
   },
   "file_extension": ".py",
   "mimetype": "text/x-python",
   "name": "python",
   "nbconvert_exporter": "python",
   "pygments_lexer": "ipython3",
   "version": "3.9.19"
  }
 },
 "nbformat": 4,
 "nbformat_minor": 2
}
